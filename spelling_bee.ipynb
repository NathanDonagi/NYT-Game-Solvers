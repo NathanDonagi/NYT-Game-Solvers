{
 "cells": [
  {
   "cell_type": "code",
   "execution_count": null,
   "id": "2bd2de6b-68e4-44ad-b808-d305df962702",
   "metadata": {},
   "outputs": [],
   "source": [
    "!curl -O https://raw.githubusercontent.com/dolph/dictionary/master/enable1.txt"
   ]
  },
  {
   "cell_type": "code",
   "execution_count": null,
   "id": "2b9214b3-7885-4907-9196-2c4ab7a1d046",
   "metadata": {},
   "outputs": [],
   "source": [
    "!curl -O https://raw.githubusercontent.com/first20hours/google-10000-english/master/google-10000-english-no-swears.txt"
   ]
  },
  {
   "cell_type": "code",
   "execution_count": 1,
   "id": "d5e324a1-d313-4a65-91b3-898df60da585",
   "metadata": {},
   "outputs": [],
   "source": [
    "with open('enable1.txt') as f:\n",
    "  words=set(f.read().splitlines())\n",
    "\n",
    "word_beginings = set()\n",
    "for word in words:\n",
    "  for i in range(len(word)+1):\n",
    "      word_beginings.add(word[:i])"
   ]
  },
  {
   "cell_type": "code",
   "execution_count": 7,
   "id": "11622bca-327d-4b02-bd82-b7479ee2d902",
   "metadata": {},
   "outputs": [],
   "source": [
    "letters = \"plviaon\"\n",
    "center = \"n\""
   ]
  },
  {
   "cell_type": "code",
   "execution_count": 9,
   "id": "5d20b8c0-dfe6-4fc8-b72b-cb9ee9ea88d0",
   "metadata": {},
   "outputs": [
    {
     "data": {
      "text/plain": [
       "['nonnaval',\n",
       " 'nona',\n",
       " 'nonillion',\n",
       " 'nonpapal',\n",
       " 'noon',\n",
       " 'noil',\n",
       " 'nova',\n",
       " 'nolo',\n",
       " 'nopal',\n",
       " 'nana',\n",
       " 'naoi',\n",
       " 'naan',\n",
       " 'nail',\n",
       " 'naval',\n",
       " 'ninon',\n",
       " 'nival',\n",
       " 'nill',\n",
       " 'nipa',\n",
       " 'onion',\n",
       " 'opinion',\n",
       " 'anna',\n",
       " 'annal',\n",
       " 'anon',\n",
       " 'anoa',\n",
       " 'anopia',\n",
       " 'anal',\n",
       " 'anion',\n",
       " 'anil',\n",
       " 'anilin',\n",
       " 'anvil',\n",
       " 'avion',\n",
       " 'avian',\n",
       " 'aloin',\n",
       " 'alan',\n",
       " 'alanin',\n",
       " 'apian',\n",
       " 'inion',\n",
       " 'inia',\n",
       " 'vanilla',\n",
       " 'vanillin',\n",
       " 'vanpool',\n",
       " 'vain',\n",
       " 'valonia',\n",
       " 'vino',\n",
       " 'vina',\n",
       " 'vinal',\n",
       " 'violin',\n",
       " 'villain',\n",
       " 'loon',\n",
       " 'loan',\n",
       " 'loin',\n",
       " 'lanolin',\n",
       " 'lanai',\n",
       " 'lain',\n",
       " 'lallan',\n",
       " 'lapin',\n",
       " 'linn',\n",
       " 'lino',\n",
       " 'linalool',\n",
       " 'linalol',\n",
       " 'linin',\n",
       " 'lion',\n",
       " 'liana',\n",
       " 'lipin',\n",
       " 'llano',\n",
       " 'poon',\n",
       " 'pollinia',\n",
       " 'poplin',\n",
       " 'pain',\n",
       " 'pavan',\n",
       " 'pavin',\n",
       " 'pavilion',\n",
       " 'pavillon',\n",
       " 'papain',\n",
       " 'papillon',\n",
       " 'pinna',\n",
       " 'pinnal',\n",
       " 'pinon',\n",
       " 'pina',\n",
       " 'pinion',\n",
       " 'pion',\n",
       " 'pian',\n",
       " 'piano',\n",
       " 'pillion',\n",
       " 'pippin',\n",
       " 'plan',\n",
       " 'plain']"
      ]
     },
     "execution_count": 9,
     "metadata": {},
     "output_type": "execute_result"
    }
   ],
   "source": [
    "valid_word = []\n",
    "to_check = [\"\"]\n",
    "\n",
    "while to_check:\n",
    "    top = to_check[-1]\n",
    "    to_check.pop(-1)\n",
    "    if top in words:\n",
    "        valid_word.append(top)\n",
    "    if top in word_beginings:\n",
    "        to_check += [top+l for l in letters]\n",
    "\n",
    "valid_word = [word for word in valid_word if len(word)>3 and center in word]\n",
    "valid_word"
   ]
  }
 ],
 "metadata": {
  "kernelspec": {
   "display_name": "Python 3 (ipykernel)",
   "language": "python",
   "name": "python3"
  },
  "language_info": {
   "codemirror_mode": {
    "name": "ipython",
    "version": 3
   },
   "file_extension": ".py",
   "mimetype": "text/x-python",
   "name": "python",
   "nbconvert_exporter": "python",
   "pygments_lexer": "ipython3",
   "version": "3.9.19"
  }
 },
 "nbformat": 4,
 "nbformat_minor": 5
}
