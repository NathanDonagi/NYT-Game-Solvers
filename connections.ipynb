{
 "nbformat": 4,
 "nbformat_minor": 0,
 "metadata": {
  "colab": {
   "provenance": []
  },
  "kernelspec": {
   "name": "python3",
   "language": "python",
   "display_name": "Python 3 (ipykernel)"
  },
  "language_info": {
   "name": "python"
  }
 },
 "cells": [
  {
   "cell_type": "code",
   "execution_count": 1,
   "outputs": [
    {
     "name": "stdout",
     "output_type": "stream",
     "text": [
      "Collecting numpy\n",
      "  Downloading numpy-1.26.4-cp39-cp39-win_amd64.whl.metadata (61 kB)\n",
      "     ---------------------------------------- 0.0/61.0 kB ? eta -:--:--\n",
      "     ------------ ------------------------- 20.5/61.0 kB 330.3 kB/s eta 0:00:01\n",
      "     ------------------------------- ------ 51.2/61.0 kB 525.1 kB/s eta 0:00:01\n",
      "     -------------------------------------- 61.0/61.0 kB 540.4 kB/s eta 0:00:00\n",
      "Downloading numpy-1.26.4-cp39-cp39-win_amd64.whl (15.8 MB)\n",
      "   ---------------------------------------- 0.0/15.8 MB ? eta -:--:--\n",
      "    --------------------------------------- 0.2/15.8 MB 6.9 MB/s eta 0:00:03\n",
      "   --- ------------------------------------ 1.2/15.8 MB 15.5 MB/s eta 0:00:01\n",
      "   ------ --------------------------------- 2.5/15.8 MB 22.5 MB/s eta 0:00:01\n",
      "   --------- ------------------------------ 3.8/15.8 MB 22.3 MB/s eta 0:00:01\n",
      "   ------------- -------------------------- 5.5/15.8 MB 27.1 MB/s eta 0:00:01\n",
      "   ----------------- ---------------------- 7.0/15.8 MB 27.9 MB/s eta 0:00:01\n",
      "   --------------------- ------------------ 8.5/15.8 MB 28.8 MB/s eta 0:00:01\n",
      "   ------------------------ --------------- 9.7/15.8 MB 28.4 MB/s eta 0:00:01\n",
      "   ---------------------------- ----------- 11.5/15.8 MB 32.8 MB/s eta 0:00:01\n",
      "   --------------------------------- ------ 13.4/15.8 MB 34.4 MB/s eta 0:00:01\n",
      "   ------------------------------------- -- 14.9/15.8 MB 34.4 MB/s eta 0:00:01\n",
      "   ---------------------------------------- 15.8/15.8 MB 32.7 MB/s eta 0:00:00\n",
      "Installing collected packages: numpy\n",
      "Successfully installed numpy-1.26.4\n",
      "Collecting google-generativeai\n",
      "  Downloading google_generativeai-0.5.0-py3-none-any.whl.metadata (3.9 kB)\n",
      "Collecting google-ai-generativelanguage==0.6.1 (from google-generativeai)\n",
      "  Downloading google_ai_generativelanguage-0.6.1-py3-none-any.whl.metadata (5.2 kB)\n",
      "Collecting google-api-core (from google-generativeai)\n",
      "  Using cached google_api_core-2.18.0-py3-none-any.whl.metadata (2.7 kB)\n",
      "Collecting google-api-python-client (from google-generativeai)\n",
      "  Downloading google_api_python_client-2.125.0-py2.py3-none-any.whl.metadata (6.6 kB)\n",
      "Collecting google-auth>=2.15.0 (from google-generativeai)\n",
      "  Using cached google_auth-2.29.0-py2.py3-none-any.whl.metadata (4.7 kB)\n",
      "Collecting protobuf (from google-generativeai)\n",
      "  Downloading protobuf-5.26.1-cp39-cp39-win_amd64.whl.metadata (592 bytes)\n",
      "Collecting pydantic (from google-generativeai)\n",
      "  Downloading pydantic-2.7.0-py3-none-any.whl.metadata (103 kB)\n",
      "     ---------------------------------------- 0.0/103.4 kB ? eta -:--:--\n",
      "     ----------- --------------------------- 30.7/103.4 kB 1.3 MB/s eta 0:00:01\n",
      "     -------------------------------------- 103.4/103.4 kB 2.0 MB/s eta 0:00:00\n",
      "Collecting tqdm (from google-generativeai)\n",
      "  Using cached tqdm-4.66.2-py3-none-any.whl.metadata (57 kB)\n",
      "Requirement already satisfied: typing-extensions in c:\\users\\ndona\\anaconda3\\envs\\nyt_solvers\\lib\\site-packages (from google-generativeai) (4.9.0)\n",
      "Collecting proto-plus<2.0.0dev,>=1.22.3 (from google-ai-generativelanguage==0.6.1->google-generativeai)\n",
      "  Using cached proto_plus-1.23.0-py3-none-any.whl.metadata (2.2 kB)\n",
      "Collecting protobuf (from google-generativeai)\n",
      "  Downloading protobuf-4.25.3-cp39-cp39-win_amd64.whl.metadata (541 bytes)\n",
      "Collecting googleapis-common-protos<2.0.dev0,>=1.56.2 (from google-api-core->google-generativeai)\n",
      "  Using cached googleapis_common_protos-1.63.0-py2.py3-none-any.whl.metadata (1.5 kB)\n",
      "Requirement already satisfied: requests<3.0.0.dev0,>=2.18.0 in c:\\users\\ndona\\anaconda3\\envs\\nyt_solvers\\lib\\site-packages (from google-api-core->google-generativeai) (2.31.0)\n",
      "Collecting cachetools<6.0,>=2.0.0 (from google-auth>=2.15.0->google-generativeai)\n",
      "  Using cached cachetools-5.3.3-py3-none-any.whl.metadata (5.3 kB)\n",
      "Collecting pyasn1-modules>=0.2.1 (from google-auth>=2.15.0->google-generativeai)\n",
      "  Using cached pyasn1_modules-0.4.0-py3-none-any.whl.metadata (3.4 kB)\n",
      "Collecting rsa<5,>=3.1.4 (from google-auth>=2.15.0->google-generativeai)\n",
      "  Using cached rsa-4.9-py3-none-any.whl.metadata (4.2 kB)\n",
      "Collecting httplib2<1.dev0,>=0.19.0 (from google-api-python-client->google-generativeai)\n",
      "  Downloading httplib2-0.22.0-py3-none-any.whl.metadata (2.6 kB)\n",
      "Collecting google-auth-httplib2<1.0.0,>=0.2.0 (from google-api-python-client->google-generativeai)\n",
      "  Downloading google_auth_httplib2-0.2.0-py2.py3-none-any.whl.metadata (2.2 kB)\n",
      "Collecting uritemplate<5,>=3.0.1 (from google-api-python-client->google-generativeai)\n",
      "  Downloading uritemplate-4.1.1-py2.py3-none-any.whl.metadata (2.9 kB)\n",
      "Collecting annotated-types>=0.4.0 (from pydantic->google-generativeai)\n",
      "  Downloading annotated_types-0.6.0-py3-none-any.whl.metadata (12 kB)\n",
      "Collecting pydantic-core==2.18.1 (from pydantic->google-generativeai)\n",
      "  Downloading pydantic_core-2.18.1-cp39-none-win_amd64.whl.metadata (6.7 kB)\n",
      "Requirement already satisfied: colorama in c:\\users\\ndona\\anaconda3\\envs\\nyt_solvers\\lib\\site-packages (from tqdm->google-generativeai) (0.4.6)\n",
      "Collecting grpcio<2.0dev,>=1.33.2 (from google-api-core[grpc]!=2.0.*,!=2.1.*,!=2.10.*,!=2.2.*,!=2.3.*,!=2.4.*,!=2.5.*,!=2.6.*,!=2.7.*,!=2.8.*,!=2.9.*,<3.0.0dev,>=1.34.1->google-ai-generativelanguage==0.6.1->google-generativeai)\n",
      "  Downloading grpcio-1.62.1-cp39-cp39-win_amd64.whl.metadata (4.2 kB)\n",
      "Collecting grpcio-status<2.0.dev0,>=1.33.2 (from google-api-core[grpc]!=2.0.*,!=2.1.*,!=2.10.*,!=2.2.*,!=2.3.*,!=2.4.*,!=2.5.*,!=2.6.*,!=2.7.*,!=2.8.*,!=2.9.*,<3.0.0dev,>=1.34.1->google-ai-generativelanguage==0.6.1->google-generativeai)\n",
      "  Using cached grpcio_status-1.62.1-py3-none-any.whl.metadata (1.3 kB)\n",
      "Collecting pyparsing!=3.0.0,!=3.0.1,!=3.0.2,!=3.0.3,<4,>=2.4.2 (from httplib2<1.dev0,>=0.19.0->google-api-python-client->google-generativeai)\n",
      "  Downloading pyparsing-3.1.2-py3-none-any.whl.metadata (5.1 kB)\n",
      "Collecting pyasn1<0.7.0,>=0.4.6 (from pyasn1-modules>=0.2.1->google-auth>=2.15.0->google-generativeai)\n",
      "  Using cached pyasn1-0.6.0-py2.py3-none-any.whl.metadata (8.3 kB)\n",
      "Requirement already satisfied: charset-normalizer<4,>=2 in c:\\users\\ndona\\anaconda3\\envs\\nyt_solvers\\lib\\site-packages (from requests<3.0.0.dev0,>=2.18.0->google-api-core->google-generativeai) (2.0.4)\n",
      "Requirement already satisfied: idna<4,>=2.5 in c:\\users\\ndona\\anaconda3\\envs\\nyt_solvers\\lib\\site-packages (from requests<3.0.0.dev0,>=2.18.0->google-api-core->google-generativeai) (3.4)\n",
      "Requirement already satisfied: urllib3<3,>=1.21.1 in c:\\users\\ndona\\anaconda3\\envs\\nyt_solvers\\lib\\site-packages (from requests<3.0.0.dev0,>=2.18.0->google-api-core->google-generativeai) (2.1.0)\n",
      "Requirement already satisfied: certifi>=2017.4.17 in c:\\users\\ndona\\anaconda3\\envs\\nyt_solvers\\lib\\site-packages (from requests<3.0.0.dev0,>=2.18.0->google-api-core->google-generativeai) (2024.2.2)\n",
      "Downloading google_generativeai-0.5.0-py3-none-any.whl (142 kB)\n",
      "   ---------------------------------------- 0.0/142.1 kB ? eta -:--:--\n",
      "   ---------------------------------------- 142.1/142.1 kB 8.2 MB/s eta 0:00:00\n",
      "Downloading google_ai_generativelanguage-0.6.1-py3-none-any.whl (663 kB)\n",
      "   ---------------------------------------- 0.0/663.6 kB ? eta -:--:--\n",
      "   --------------------------------------- 663.6/663.6 kB 13.9 MB/s eta 0:00:00\n",
      "Using cached google_api_core-2.18.0-py3-none-any.whl (138 kB)\n",
      "Using cached google_auth-2.29.0-py2.py3-none-any.whl (189 kB)\n",
      "Downloading protobuf-4.25.3-cp39-cp39-win_amd64.whl (413 kB)\n",
      "   ---------------------------------------- 0.0/413.4 kB ? eta -:--:--\n",
      "   ---------------------------------------- 413.4/413.4 kB 8.8 MB/s eta 0:00:00\n",
      "Downloading google_api_python_client-2.125.0-py2.py3-none-any.whl (12.5 MB)\n",
      "   ---------------------------------------- 0.0/12.5 MB ? eta -:--:--\n",
      "   -- ------------------------------------- 0.8/12.5 MB 16.8 MB/s eta 0:00:01\n",
      "   ----- ---------------------------------- 1.8/12.5 MB 18.6 MB/s eta 0:00:01\n",
      "   --------- ------------------------------ 2.8/12.5 MB 20.0 MB/s eta 0:00:01\n",
      "   ------------ --------------------------- 3.9/12.5 MB 22.6 MB/s eta 0:00:01\n",
      "   ---------------- ----------------------- 5.2/12.5 MB 22.3 MB/s eta 0:00:01\n",
      "   -------------------- ------------------- 6.5/12.5 MB 23.0 MB/s eta 0:00:01\n",
      "   ------------------------ --------------- 7.6/12.5 MB 23.3 MB/s eta 0:00:01\n",
      "   ---------------------------- ----------- 9.0/12.5 MB 24.9 MB/s eta 0:00:01\n",
      "   --------------------------------- ------ 10.4/12.5 MB 25.2 MB/s eta 0:00:01\n",
      "   ------------------------------------- -- 11.8/12.5 MB 27.3 MB/s eta 0:00:01\n",
      "   ---------------------------------------- 12.5/12.5 MB 26.1 MB/s eta 0:00:00\n",
      "Downloading pydantic-2.7.0-py3-none-any.whl (407 kB)\n",
      "   ---------------------------------------- 0.0/407.9 kB ? eta -:--:--\n",
      "   --------------------------------------- 407.9/407.9 kB 24.9 MB/s eta 0:00:00\n",
      "Downloading pydantic_core-2.18.1-cp39-none-win_amd64.whl (1.9 MB)\n",
      "   ---------------------------------------- 0.0/1.9 MB ? eta -:--:--\n",
      "   --------------------------------- ------ 1.6/1.9 MB 34.3 MB/s eta 0:00:01\n",
      "   ---------------------------------------- 1.9/1.9 MB 24.5 MB/s eta 0:00:00\n",
      "Using cached tqdm-4.66.2-py3-none-any.whl (78 kB)\n",
      "Downloading annotated_types-0.6.0-py3-none-any.whl (12 kB)\n",
      "Using cached cachetools-5.3.3-py3-none-any.whl (9.3 kB)\n",
      "Downloading google_auth_httplib2-0.2.0-py2.py3-none-any.whl (9.3 kB)\n",
      "Using cached googleapis_common_protos-1.63.0-py2.py3-none-any.whl (229 kB)\n",
      "Downloading httplib2-0.22.0-py3-none-any.whl (96 kB)\n",
      "   ---------------------------------------- 0.0/96.9 kB ? eta -:--:--\n",
      "   ---------------------------------------- 96.9/96.9 kB ? eta 0:00:00\n",
      "Using cached proto_plus-1.23.0-py3-none-any.whl (48 kB)\n",
      "Using cached pyasn1_modules-0.4.0-py3-none-any.whl (181 kB)\n",
      "Using cached rsa-4.9-py3-none-any.whl (34 kB)\n",
      "Downloading uritemplate-4.1.1-py2.py3-none-any.whl (10 kB)\n",
      "Downloading grpcio-1.62.1-cp39-cp39-win_amd64.whl (3.8 MB)\n",
      "   ---------------------------------------- 0.0/3.8 MB ? eta -:--:--\n",
      "   -------------- ------------------------- 1.3/3.8 MB 42.9 MB/s eta 0:00:01\n",
      "   ---------------------------- ----------- 2.7/3.8 MB 35.1 MB/s eta 0:00:01\n",
      "   ---------------------------------------- 3.8/3.8 MB 30.4 MB/s eta 0:00:00\n",
      "Using cached grpcio_status-1.62.1-py3-none-any.whl (14 kB)\n",
      "Using cached pyasn1-0.6.0-py2.py3-none-any.whl (85 kB)\n",
      "Downloading pyparsing-3.1.2-py3-none-any.whl (103 kB)\n",
      "   ---------------------------------------- 0.0/103.2 kB ? eta -:--:--\n",
      "   ---------------------------------------- 103.2/103.2 kB ? eta 0:00:00\n",
      "Installing collected packages: uritemplate, tqdm, pyparsing, pydantic-core, pyasn1, protobuf, grpcio, cachetools, annotated-types, rsa, pydantic, pyasn1-modules, proto-plus, httplib2, googleapis-common-protos, grpcio-status, google-auth, google-auth-httplib2, google-api-core, google-api-python-client, google-ai-generativelanguage, google-generativeai\n",
      "Successfully installed annotated-types-0.6.0 cachetools-5.3.3 google-ai-generativelanguage-0.6.1 google-api-core-2.18.0 google-api-python-client-2.125.0 google-auth-2.29.0 google-auth-httplib2-0.2.0 google-generativeai-0.5.0 googleapis-common-protos-1.63.0 grpcio-1.62.1 grpcio-status-1.62.1 httplib2-0.22.0 proto-plus-1.23.0 protobuf-4.25.3 pyasn1-0.6.0 pyasn1-modules-0.4.0 pydantic-2.7.0 pydantic-core-2.18.1 pyparsing-3.1.2 rsa-4.9 tqdm-4.66.2 uritemplate-4.1.1\n"
     ]
    }
   ],
   "source": [
    "!pip install numpy\n",
    "!pip install google-generativeai"
   ],
   "metadata": {
    "collapsed": false,
    "ExecuteTime": {
     "end_time": "2024-04-15T02:02:23.231775500Z",
     "start_time": "2024-04-15T02:02:02.568094700Z"
    }
   }
  },
  {
   "cell_type": "code",
   "execution_count": 6,
   "outputs": [],
   "source": [
    "import os\n",
    "os.environ['GOOGLE_API_KEY'] = 'enter your key here'"
   ],
   "metadata": {
    "collapsed": false,
    "ExecuteTime": {
     "end_time": "2024-04-15T02:04:11.004669Z",
     "start_time": "2024-04-15T02:04:10.989809500Z"
    }
   }
  },
  {
   "cell_type": "code",
   "execution_count": 7,
   "outputs": [],
   "source": [
    "import numpy as np\n",
    "import google.generativeai as genai\n",
    "import os\n",
    "\n",
    "GOOGLE_API_KEY = os.environ.get(\"GOOGLE_API_KEY\")\n",
    "genai.configure(api_key=GOOGLE_API_KEY)\n",
    "\n",
    "def similarity(a, b):\n",
    "  return np.dot(a, b)/(np.linalg.norm(a)*np.linalg.norm(b))\n",
    "\n",
    "def get_embeddings(content):\n",
    "  result = genai.embed_content(\n",
    "    model=\"models/embedding-001\",\n",
    "    content=content,\n",
    "    task_type=\"semantic_similarity\")\n",
    "  return result['embedding']"
   ],
   "metadata": {
    "collapsed": false,
    "ExecuteTime": {
     "end_time": "2024-04-15T02:04:11.518830500Z",
     "start_time": "2024-04-15T02:04:11.491094900Z"
    }
   }
  },
  {
   "cell_type": "code",
   "source": [
    "def score(x, content, dt):\n",
    "  k1,k2,k3,k4 = x\n",
    "  c1,c2,c3,c4 = content[k1],content[k2],content[k3],content[k4]\n",
    "  s = 0\n",
    "  for x,y in [(c1,c2),(c1,c3),(c1,c4),(c2,c3),(c2,c4),(c3,c4)]:\n",
    "    s += dt[x][y]\n",
    "  return s\n",
    "\n",
    "def score_list(l, content, dt):\n",
    "  return sum([score(l[i:i+4], content, dt) for i in range(0,16,4)])\n",
    "\n",
    "def swap(l,i,j):\n",
    "  return l[:i] + [l[j]] + l[i+1:j] + [l[i]] + l[j+1:]\n",
    "\n",
    "def get_poss(current_guess):\n",
    "  poss = []\n",
    "  for j in range(4):\n",
    "    for i in range(j):\n",
    "      for a in range(4):\n",
    "        for b in range(4):\n",
    "          poss.append(swap(current_guess, 4*i+a, 4*j+b))\n",
    "  return poss\n",
    "\n",
    "def get_best(grid):\n",
    "  content = []\n",
    "  for row in grid:\n",
    "    content += row\n",
    "  embeddings = get_embeddings(content)\n",
    "  embeddings = [np.array(x) for x in embeddings]\n",
    "\n",
    "  from collections import defaultdict\n",
    "  def def_value():\n",
    "    return {}\n",
    "\n",
    "  dt = defaultdict(def_value)\n",
    "\n",
    "  for i in range(len(content)):\n",
    "    for j in range(i):\n",
    "      dt[content[i]][content[j]] = similarity(embeddings[i], embeddings[j])\n",
    "      dt[content[j]][content[i]] = similarity(embeddings[i], embeddings[j])\n",
    "\n",
    "  current_guess = list(range(16))\n",
    "\n",
    "  for _ in range(20):\n",
    "    poss = get_poss(current_guess)\n",
    "    poss = [(score_list(l, content, dt), l) for l in poss]\n",
    "    poss.sort(reverse = True)\n",
    "    current_guess = poss[0][1]\n",
    "\n",
    "  poss = [tuple(x[1]) for x in poss]\n",
    "  seen = set()\n",
    "  seen_add = seen.add\n",
    "  poss = [x for x in poss if not (x in seen or seen_add(x))]\n",
    "\n",
    "  for row in [poss[0][i:i+4] for i in range(0,16,4)]:\n",
    "    print([content[g] for g in row])"
   ],
   "metadata": {
    "id": "vOf9WI6jaEsy",
    "ExecuteTime": {
     "end_time": "2024-04-15T02:04:12.102612300Z",
     "start_time": "2024-04-15T02:04:12.088649600Z"
    }
   },
   "execution_count": 8,
   "outputs": []
  },
  {
   "cell_type": "code",
   "source": [
    "grid = [[\"Honey\", \"Brown\", \"Corset\", \"Mineral\"], [\"Spring\", \"Slip\", \"Teddy\", \"Wasp\"], [\"Fall\", \"Hourglass\", \"Tap\", \"Boo-Boo\"], [\"Still\", \"Spill\", \"Diabolo\", \"Trip\"]]\n",
    "get_best(grid)"
   ],
   "metadata": {
    "id": "OtLvdVcKN8LI",
    "ExecuteTime": {
     "end_time": "2024-04-15T02:04:13.361124300Z",
     "start_time": "2024-04-15T02:04:12.607084400Z"
    }
   },
   "execution_count": 9,
   "outputs": [
    {
     "name": "stdout",
     "output_type": "stream",
     "text": [
      "['Honey', 'Brown', 'Teddy', 'Boo-Boo']\n",
      "['Spring', 'Still', 'Fall', 'Mineral']\n",
      "['Corset', 'Hourglass', 'Diabolo', 'Wasp']\n",
      "['Slip', 'Spill', 'Tap', 'Trip']\n"
     ]
    }
   ]
  }
 ]
}
