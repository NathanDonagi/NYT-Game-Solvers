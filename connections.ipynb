{
 "nbformat": 4,
 "nbformat_minor": 0,
 "metadata": {
  "colab": {
   "provenance": []
  },
  "kernelspec": {
   "name": "python3",
   "language": "python",
   "display_name": "Python 3 (ipykernel)"
  },
  "language_info": {
   "name": "python"
  }
 },
 "cells": [
  {
   "cell_type": "code",
   "execution_count": 1,
   "outputs": [
    {
     "name": "stdout",
     "output_type": "stream",
     "text": [
      "Collecting numpy\n",
      "  Downloading numpy-1.26.4-cp311-cp311-win_amd64.whl.metadata (61 kB)\n",
      "     ---------------------------------------- 0.0/61.0 kB ? eta -:--:--\n",
      "     ------ --------------------------------- 10.2/61.0 kB ? eta -:--:--\n",
      "     ------------------------- ------------ 41.0/61.0 kB 667.8 kB/s eta 0:00:01\n",
      "     -------------------------------------- 61.0/61.0 kB 651.3 kB/s eta 0:00:00\n",
      "Downloading numpy-1.26.4-cp311-cp311-win_amd64.whl (15.8 MB)\n",
      "   ---------------------------------------- 0.0/15.8 MB ? eta -:--:--\n",
      "    --------------------------------------- 0.2/15.8 MB 6.6 MB/s eta 0:00:03\n",
      "   -- ------------------------------------- 1.0/15.8 MB 13.0 MB/s eta 0:00:02\n",
      "   ---- ----------------------------------- 1.9/15.8 MB 15.5 MB/s eta 0:00:01\n",
      "   ------- -------------------------------- 3.0/15.8 MB 19.1 MB/s eta 0:00:01\n",
      "   ---------- ----------------------------- 4.1/15.8 MB 20.3 MB/s eta 0:00:01\n",
      "   ------------- -------------------------- 5.5/15.8 MB 22.1 MB/s eta 0:00:01\n",
      "   ---------------- ----------------------- 6.7/15.8 MB 22.5 MB/s eta 0:00:01\n",
      "   -------------------- ------------------- 8.1/15.8 MB 23.6 MB/s eta 0:00:01\n",
      "   ----------------------- ---------------- 9.2/15.8 MB 23.6 MB/s eta 0:00:01\n",
      "   -------------------------- ------------- 10.6/15.8 MB 25.2 MB/s eta 0:00:01\n",
      "   ------------------------------ --------- 11.9/15.8 MB 27.3 MB/s eta 0:00:01\n",
      "   --------------------------------- ------ 13.3/15.8 MB 28.5 MB/s eta 0:00:01\n",
      "   ------------------------------------- -- 14.8/15.8 MB 28.5 MB/s eta 0:00:01\n",
      "   ---------------------------------------  15.8/15.8 MB 29.8 MB/s eta 0:00:01\n",
      "   ---------------------------------------  15.8/15.8 MB 29.8 MB/s eta 0:00:01\n",
      "   ---------------------------------------- 15.8/15.8 MB 25.2 MB/s eta 0:00:00\n",
      "Installing collected packages: numpy\n",
      "Successfully installed numpy-1.26.4\n"
     ]
    }
   ],
   "source": [
    "!pip install numpy\n",
    "!pip install google-generativeai==0.3.1"
   ],
   "metadata": {
    "collapsed": false,
    "ExecuteTime": {
     "end_time": "2024-04-15T01:21:08.811503500Z",
     "start_time": "2024-04-15T01:21:01.085867100Z"
    }
   }
  },
  {
   "cell_type": "code",
   "execution_count": 4,
   "outputs": [],
   "source": [
    "import numpy as np\n",
    "import google.generativeai as genai\n",
    "import os\n",
    "\n",
    "GOOGLE_API_KEY = os.environ.get(\"GOOGLE_API_KEY\")\n",
    "genai.configure(api_key=GOOGLE_API_KEY)\n",
    "\n",
    "def similarity(a, b):\n",
    "  return np.dot(a, b)/(np.linalg.norm(a)*np.linalg.norm(b))\n",
    "\n",
    "def get_embeddings(content):\n",
    "  result = genai.embed_content(\n",
    "    model=\"models/embedding-001\",\n",
    "    content=content,\n",
    "    task_type=\"semantic_similarity\")\n",
    "  return result['embedding']"
   ],
   "metadata": {
    "collapsed": false,
    "ExecuteTime": {
     "end_time": "2024-04-15T01:21:33.961975700Z",
     "start_time": "2024-04-15T01:21:33.331832200Z"
    }
   }
  },
  {
   "cell_type": "code",
   "source": [
    "def score(x, content, dt):\n",
    "  k1,k2,k3,k4 = x\n",
    "  c1,c2,c3,c4 = content[k1],content[k2],content[k3],content[k4]\n",
    "  s = 0\n",
    "  for x,y in [(c1,c2),(c1,c3),(c1,c4),(c2,c3),(c2,c4),(c3,c4)]:\n",
    "    s += dt[x][y]\n",
    "  return s\n",
    "\n",
    "def score_list(l, content, dt):\n",
    "  return sum([score(l[i:i+4], content, dt) for i in range(0,16,4)])\n",
    "\n",
    "def swap(l,i,j):\n",
    "  return l[:i] + [l[j]] + l[i+1:j] + [l[i]] + l[j+1:]\n",
    "\n",
    "def get_poss(current_guess):\n",
    "  poss = []\n",
    "  for j in range(4):\n",
    "    for i in range(j):\n",
    "      for a in range(4):\n",
    "        for b in range(4):\n",
    "          poss.append(swap(current_guess, 4*i+a, 4*j+b))\n",
    "  return poss\n",
    "\n",
    "def get_best(grid):\n",
    "  content = []\n",
    "  for row in grid:\n",
    "    content += row\n",
    "  embeddings = get_embeddings(content)\n",
    "  embeddings = [np.array(x) for x in embeddings]\n",
    "\n",
    "  from collections import defaultdict\n",
    "  def def_value():\n",
    "    return {}\n",
    "\n",
    "  dt = defaultdict(def_value)\n",
    "\n",
    "  for i in range(len(content)):\n",
    "    for j in range(i):\n",
    "      dt[content[i]][content[j]] = similarity(embeddings[i], embeddings[j])\n",
    "      dt[content[j]][content[i]] = similarity(embeddings[i], embeddings[j])\n",
    "\n",
    "  current_guess = list(range(16))\n",
    "\n",
    "  for _ in range(20):\n",
    "    poss = get_poss(current_guess)\n",
    "    poss = [(score_list(l, content, dt), l) for l in poss]\n",
    "    poss.sort(reverse = True)\n",
    "    current_guess = poss[0][1]\n",
    "\n",
    "  poss = [tuple(x[1]) for x in poss]\n",
    "  seen = set()\n",
    "  seen_add = seen.add\n",
    "  poss = [x for x in poss if not (x in seen or seen_add(x))]\n",
    "\n",
    "  for row in [poss[0][i:i+4] for i in range(0,16,4)]:\n",
    "    print([content[g] for g in row])"
   ],
   "metadata": {
    "id": "vOf9WI6jaEsy",
    "ExecuteTime": {
     "end_time": "2024-04-15T01:21:34.552216400Z",
     "start_time": "2024-04-15T01:21:34.536763800Z"
    }
   },
   "execution_count": 5,
   "outputs": []
  },
  {
   "cell_type": "code",
   "source": [
    "grid = [[\"Honey\", \"Brown\", \"Corset\", \"Mineral\"], [\"Spring\", \"Slip\", \"Teddy\", \"Wasp\"], [\"Fall\", \"Hourglass\", \"Tap\", \"Boo-Boo\"], [\"Still\", \"Spill\", \"Diabolo\", \"Trip\"]]\n",
    "get_best(grid)"
   ],
   "metadata": {
    "id": "OtLvdVcKN8LI",
    "ExecuteTime": {
     "end_time": "2024-04-15T01:21:36.005836200Z",
     "start_time": "2024-04-15T01:21:35.282742Z"
    }
   },
   "execution_count": 6,
   "outputs": [
    {
     "name": "stdout",
     "output_type": "stream",
     "text": [
      "['Honey', 'Brown', 'Teddy', 'Boo-Boo']\n",
      "['Spring', 'Still', 'Fall', 'Mineral']\n",
      "['Corset', 'Hourglass', 'Diabolo', 'Wasp']\n",
      "['Slip', 'Spill', 'Tap', 'Trip']\n"
     ]
    }
   ]
  }
 ]
}
