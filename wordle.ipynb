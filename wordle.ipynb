{
 "cells": [
  {
   "cell_type": "code",
   "execution_count": 1,
   "outputs": [
    {
     "name": "stdout",
     "output_type": "stream",
     "text": [
      "Collecting quickle\n",
      "  Downloading quickle-0.4.0-cp39-cp39-win_amd64.whl.metadata (1.7 kB)\n",
      "Downloading quickle-0.4.0-cp39-cp39-win_amd64.whl (46 kB)\n",
      "   ---------------------------------------- 0.0/46.5 kB ? eta -:--:--\n",
      "   -------- ------------------------------- 10.2/46.5 kB ? eta -:--:--\n",
      "   -------------------------- ------------- 30.7/46.5 kB 435.7 kB/s eta 0:00:01\n",
      "   ---------------------------------------- 46.5/46.5 kB 465.3 kB/s eta 0:00:00\n",
      "Installing collected packages: quickle\n",
      "Successfully installed quickle-0.4.0\n"
     ]
    }
   ],
   "source": [
    "!pip install quickle"
   ],
   "metadata": {
    "collapsed": false,
    "ExecuteTime": {
     "end_time": "2024-04-15T02:01:47.104486Z",
     "start_time": "2024-04-15T02:01:42.839413700Z"
    }
   },
   "id": "32484433a750af5"
  },
  {
   "cell_type": "code",
   "execution_count": 4,
   "outputs": [
    {
     "name": "stderr",
     "output_type": "stream",
     "text": [
      "  % Total    % Received % Xferd  Average Speed   Time    Time     Time  Current\n",
      "                                 Dload  Upload   Total   Spent    Left  Speed\n",
      "\n",
      "  0     0    0     0    0     0      0      0 --:--:-- --:--:-- --:--:--     0\n",
      "100 12929  100 12929    0     0  93362      0 --:--:-- --:--:-- --:--:-- 95066\n",
      "  % Total    % Received % Xferd  Average Speed   Time    Time     Time  Current\n",
      "                                 Dload  Upload   Total   Spent    Left  Speed\n",
      "\n",
      "  0     0    0     0    0     0      0      0 --:--:-- --:--:-- --:--:--     0\n",
      "100 89129  100 89129    0     0   635k      0 --:--:-- --:--:-- --:--:--  644k\n"
     ]
    }
   ],
   "source": [
    "!curl -O https://raw.githubusercontent.com/NathanDonagi/NYT-Game-Solvers/main/answers.txt\n",
    "!curl -O https://raw.githubusercontent.com/NathanDonagi/NYT-Game-Solvers/main/wordlist.txt"
   ],
   "metadata": {
    "collapsed": false,
    "ExecuteTime": {
     "end_time": "2024-04-15T01:42:42.853470800Z",
     "start_time": "2024-04-15T01:42:42.479540400Z"
    }
   },
   "id": "2c1658ff2a9cd2fc"
  },
  {
   "cell_type": "code",
   "execution_count": 5,
   "outputs": [
    {
     "ename": "ModuleNotFoundError",
     "evalue": "No module named 'quickle'",
     "output_type": "error",
     "traceback": [
      "\u001B[1;31m---------------------------------------------------------------------------\u001B[0m",
      "\u001B[1;31mModuleNotFoundError\u001B[0m                       Traceback (most recent call last)",
      "Cell \u001B[1;32mIn[5], line 2\u001B[0m\n\u001B[0;32m      1\u001B[0m \u001B[38;5;28;01mfrom\u001B[39;00m \u001B[38;5;21;01mcollections\u001B[39;00m \u001B[38;5;28;01mimport\u001B[39;00m defaultdict\n\u001B[1;32m----> 2\u001B[0m \u001B[38;5;28;01mimport\u001B[39;00m \u001B[38;5;21;01mquickle\u001B[39;00m\n\u001B[0;32m      3\u001B[0m \u001B[38;5;28;01mimport\u001B[39;00m \u001B[38;5;21;01mos\u001B[39;00m\n\u001B[0;32m      5\u001B[0m \u001B[38;5;28;01mwith\u001B[39;00m \u001B[38;5;28mopen\u001B[39m(\u001B[38;5;124m'\u001B[39m\u001B[38;5;124mwordlist.txt\u001B[39m\u001B[38;5;124m'\u001B[39m, \u001B[38;5;124m'\u001B[39m\u001B[38;5;124mr\u001B[39m\u001B[38;5;124m'\u001B[39m) \u001B[38;5;28;01mas\u001B[39;00m f:\n",
      "\u001B[1;31mModuleNotFoundError\u001B[0m: No module named 'quickle'"
     ]
    }
   ],
   "source": [
    "from collections import defaultdict\n",
    "import quickle\n",
    "import os\n",
    "\n",
    "with open('wordlist.txt', 'r') as f:\n",
    "    word_list = f.read().splitlines()\n",
    "\n",
    "with open('answers.txt', 'r') as f:\n",
    "    answer_list = f.read().splitlines()\n",
    "\n",
    "pairings = defaultdict(lambda: {})\n",
    "\n",
    "def get_result(answer, guess):\n",
    "    if answer in pairings and guess in pairings[answer]:\n",
    "        return pairings[answer][guess]\n",
    "    out = [\"b\"] * 5\n",
    "    a_count = defaultdict(lambda: 0)\n",
    "    g_count = defaultdict(lambda: 0)\n",
    "    for a, b in zip(answer, guess):\n",
    "        a_count[a] += 1\n",
    "        g_count[b] += 1\n",
    "\n",
    "    for i, (a, b) in enumerate(zip(answer, guess)):\n",
    "        if a == b:\n",
    "            out[i] = 'g'\n",
    "            a_count[a] -= 1\n",
    "            g_count[b] -= 1\n",
    "\n",
    "    for i, b in enumerate(guess):\n",
    "        if out[i] == 'g':\n",
    "            continue\n",
    "        if a_count[b]:\n",
    "            a_count[b] -= 1\n",
    "            out[i] = 'y'\n",
    "    return \"\".join(out)"
   ],
   "metadata": {
    "collapsed": false,
    "ExecuteTime": {
     "end_time": "2024-04-15T01:42:46.724910100Z",
     "start_time": "2024-04-15T01:42:45.628060200Z"
    }
   },
   "id": "initial_id"
  },
  {
   "cell_type": "code",
   "execution_count": 3,
   "outputs": [
    {
     "name": "stdout",
     "output_type": "stream",
     "text": [
      "precompute exists, begun reading\n",
      "precompute loaded\n"
     ]
    }
   ],
   "source": [
    "if os.path.exists('pairings.pickle'):\n",
    "    print(\"precompute exists, begun reading\")\n",
    "    with open('pairings.pickle', 'rb') as f:\n",
    "        pairings = quickle.loads(f.read())\n",
    "    print(\"precompute loaded\")\n",
    "else:\n",
    "    for answer in word_list:\n",
    "        print(answer)\n",
    "        for guess in word_list:\n",
    "            res = get_result(answer, guess)\n",
    "            pairings[answer][guess] = res\n",
    "            if not res in pairings[guess]:\n",
    "                pairings[guess][res] = []\n",
    "            pairings[guess][res].append(answer)\n",
    "    with open('pairings.pickle', 'wb') as f:\n",
    "        f.write(quickle.dumps(dict(pairings)))\n",
    "    print(\"precompute finished\")\n"
   ],
   "metadata": {
    "collapsed": false,
    "ExecuteTime": {
     "end_time": "2024-04-15T00:35:41.213122500Z",
     "start_time": "2024-04-15T00:27:24.458318300Z"
    }
   },
   "id": "4c73bb98f032fa7e"
  },
  {
   "cell_type": "code",
   "execution_count": 4,
   "outputs": [],
   "source": [
    "mem1 = {}\n",
    "mem2 = {}\n",
    "\n",
    "def score_guess(guess, prev_guesses, possible_guesses, possible_answers, mn): \n",
    "    s = 0\n",
    "    for answer in possible_answers:\n",
    "        if s>=mn:\n",
    "            return s\n",
    "\n",
    "        res = get_result(answer, guess)\n",
    "        if res == 'ggggg':\n",
    "           continue\n",
    "    \n",
    "        if (possible_guesses, possible_answers, guess, res) not in mem2:\n",
    "            mem2[(possible_guesses, possible_answers, guess, res)] = (tuple(filter(lambda x: x in pairings[guess][res], possible_guesses)), tuple(filter(lambda x: x in pairings[guess][res], possible_answers)))\n",
    "        \n",
    "        possible_next_guesses, possible_next_answers = mem2[(possible_guesses, possible_answers, guess, res)]\n",
    "        if len(possible_next_guesses) == len(possible_guesses):\n",
    "            return float('inf')\n",
    "        s += score(prev_guesses, possible_next_guesses, possible_next_answers)[0]\n",
    "    return s\n",
    "    \n",
    "def score(prev_guesses, possible_guesses, possible_answers):\n",
    "    if (possible_guesses, possible_answers) in mem1:\n",
    "        return mem1[(possible_guesses, possible_answers)]\n",
    "    if len(possible_answers) == 1:\n",
    "        mem1[(possible_guesses, possible_answers)] = 1, possible_answers[0]\n",
    "        return mem1[(possible_guesses, possible_answers)]\n",
    "    if len(prev_guesses) > 7:\n",
    "        return float('inf'), None\n",
    "\n",
    "    mn, best = float('inf'), None\n",
    "    \n",
    "    for guess in possible_answers+tuple(filter(lambda x: x in possible_answers, possible_guesses)):\n",
    "        temp = score_guess(guess, prev_guesses+(guess,), possible_guesses, possible_answers, mn)\n",
    "        if temp < mn:\n",
    "            mn = temp\n",
    "            best = guess\n",
    "        if mn == 0:\n",
    "            break\n",
    "\n",
    "    mem1[(possible_guesses, possible_answers)] = 1+mn/len(possible_answers), best\n",
    "    return  mem1[(possible_guesses, possible_answers)]"
   ],
   "metadata": {
    "collapsed": false,
    "ExecuteTime": {
     "end_time": "2024-04-15T00:35:58.816461900Z",
     "start_time": "2024-04-15T00:35:58.787633100Z"
    }
   },
   "id": "e16848bf869f46f4"
  },
  {
   "cell_type": "code",
   "execution_count": 5,
   "outputs": [],
   "source": [
    "def get_next_guess(guesses):\n",
    "    possible_guesses = word_list\n",
    "    possible_answers = answer_list\n",
    "    for guess, res in guesses:\n",
    "        if res not in pairings[guess]:\n",
    "            pairings[guess][res] = []\n",
    "        possible_guesses = tuple(filter(lambda x: x in pairings[guess][res], possible_guesses))\n",
    "        possible_answers = tuple(filter(lambda x: x in pairings[guess][res], possible_answers)) \n",
    "        if res == 'ggggg':\n",
    "            return 0, None\n",
    "    print(len(possible_guesses), len(possible_answers))\n",
    "    out = score(('salet',), possible_guesses, possible_answers)\n",
    "    # print(out, possible_guesses, possible_answers)\n",
    "    return out\n",
    "\n",
    "def solve(answer):\n",
    "    if answer == 'salet':\n",
    "        return 1\n",
    "    guesses = ['salet']\n",
    "    # print('first')\n",
    "    temp = get_next_guess([(guess, get_result(answer, guess)) for guess in guesses])[1]\n",
    "    while temp != answer:\n",
    "        temp = get_next_guess([(guess, get_result(answer, guess)) for guess in guesses])[1]\n",
    "        print(temp)\n",
    "        if temp in guesses:\n",
    "            raise NotImplementedError\n",
    "        guesses.append(temp)\n",
    "    # print(guesses)\n",
    "    return len(guesses)"
   ],
   "metadata": {
    "collapsed": false,
    "ExecuteTime": {
     "end_time": "2024-04-15T00:36:03.892844100Z",
     "start_time": "2024-04-15T00:36:03.880529400Z"
    }
   },
   "id": "d79892f332afdbd0"
  },
  {
   "cell_type": "code",
   "execution_count": null,
   "outputs": [],
   "source": [
    "#generate all possible solves\n",
    "s=0\n",
    "for i, answer in enumerate(answer_list):\n",
    "    print(answer)\n",
    "    s += solve(answer)\n",
    "    print(s/(i+1))\n",
    "\n",
    "#average number of guesses taken\n",
    "print(s/len(answer_list))"
   ],
   "metadata": {
    "collapsed": false
   },
   "id": "e7cae93faa9b5263"
  },
  {
   "cell_type": "code",
   "execution_count": 12,
   "outputs": [
    {
     "name": "stdout",
     "output_type": "stream",
     "text": [
      "2 1\n"
     ]
    },
    {
     "data": {
      "text/plain": "'blimp'"
     },
     "execution_count": 12,
     "metadata": {},
     "output_type": "execute_result"
    }
   ],
   "source": [
    "get_next_guess([('salet', 'bbybb'), ('cloud', 'bgbbb'), ('bling', 'gggbb')])[1]"
   ],
   "metadata": {
    "collapsed": false,
    "ExecuteTime": {
     "end_time": "2024-04-15T00:37:20.807067900Z",
     "start_time": "2024-04-15T00:37:20.719193500Z"
    }
   },
   "id": "5b7209204f4a0074"
  },
  {
   "cell_type": "code",
   "execution_count": 8,
   "outputs": [
    {
     "name": "stdout",
     "output_type": "stream",
     "text": [
      "mem1 precompute exists, begun reading\n",
      "precompute loaded\n",
      "mem2 precompute exists, begun reading\n",
      "precompute2 loaded\n"
     ]
    }
   ],
   "source": [
    "#load saved memory\n",
    "if os.path.exists('mem1.pickle'):\n",
    "    print(\"mem1 precompute exists, begun reading\")\n",
    "    with open('mem1.pickle', 'rb') as f:\n",
    "        mem1 = quickle.loads(f.read())\n",
    "    print(\"precompute loaded\")\n",
    "\n",
    "if os.path.exists('mem2.pickle'):\n",
    "    print(\"mem2 precompute exists, begun reading\")\n",
    "    with open('mem2.pickle', 'rb') as f:\n",
    "        mem2 = quickle.loads(f.read())\n",
    "    print(\"precompute2 loaded\")"
   ],
   "metadata": {
    "collapsed": false,
    "ExecuteTime": {
     "end_time": "2024-04-15T00:36:23.578913900Z",
     "start_time": "2024-04-15T00:36:19.714704700Z"
    }
   },
   "id": "1e18a0c5c9d5b56a"
  },
  {
   "cell_type": "code",
   "execution_count": 15,
   "outputs": [],
   "source": [
    "#save memory\n",
    "with open('mem1.pickle', 'wb') as f:\n",
    "    f.write(quickle.dumps(dict(mem1)))\n",
    "with open('mem2.pickle', 'wb') as f:\n",
    "    f.write(quickle.dumps(dict(mem2)))"
   ],
   "metadata": {
    "collapsed": false,
    "ExecuteTime": {
     "start_time": "2024-04-06T05:17:33.102614100Z"
    }
   },
   "id": "cc878a24d98c3b79"
  }
 ],
 "metadata": {
  "kernelspec": {
   "display_name": "Python 3",
   "language": "python",
   "name": "python3"
  },
  "language_info": {
   "codemirror_mode": {
    "name": "ipython",
    "version": 2
   },
   "file_extension": ".py",
   "mimetype": "text/x-python",
   "name": "python",
   "nbconvert_exporter": "python",
   "pygments_lexer": "ipython2",
   "version": "2.7.6"
  }
 },
 "nbformat": 4,
 "nbformat_minor": 5
}
