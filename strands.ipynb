{
 "cells": [
  {
   "cell_type": "code",
   "execution_count": 1,
   "metadata": {
    "colab": {
     "base_uri": "https://localhost:8080/"
    },
    "id": "Vgu13bTUDepe",
    "outputId": "c513d62e-9f8d-4583-8459-448b7f2079c6"
   },
   "outputs": [
    {
     "data": {
      "text/plain": [
       "[['e', 'u', 't', 't', 'e', 'l'],\n",
       " ['c', 'n', 'o', 'r', 'k', 'e'],\n",
       " ['b', 'c', 'k', 'l', 'u', 'y'],\n",
       " ['s', 'a', 'c', 'e', 't', 'h'],\n",
       " ['m', 'a', 'i', 'p', 'c', 't'],\n",
       " ['a', 'n', 'd', 'w', 'i', 'o'],\n",
       " ['y', 'n', 'n', 's', 'm', 'a'],\n",
       " ['o', 'a', 'i', 'e', 't', 'o']]"
      ]
     },
     "execution_count": 1,
     "metadata": {},
     "output_type": "execute_result"
    }
   ],
   "source": [
    "board = ['euttel', 'cnorke', 'bckluy', 'saceth', 'maipct', 'andwio', 'ynnsma', 'oaieto'] \n",
    "board = [list(x) for x in board]\n",
    "board"
   ]
  },
  {
   "cell_type": "code",
   "execution_count": 2,
   "metadata": {
    "colab": {
     "base_uri": "https://localhost:8080/"
    },
    "id": "70OoDVotFvvT",
    "outputId": "75615f25-a591-40eb-a180-046150815b57"
   },
   "outputs": [
    {
     "name": "stdout",
     "output_type": "stream",
     "text": [
      "  % Total    % Received % Xferd  Average Speed   Time    Time     Time  Current\n",
      "                                 Dload  Upload   Total   Spent    Left  Speed\n",
      "100 1702k  100 1702k    0     0  2414k      0 --:--:-- --:--:-- --:--:-- 2453k\n"
     ]
    }
   ],
   "source": [
    "!curl -O https://raw.githubusercontent.com/dolph/dictionary/master/enable1.txt"
   ]
  },
  {
   "cell_type": "code",
   "execution_count": 3,
   "metadata": {},
   "outputs": [
    {
     "name": "stdout",
     "output_type": "stream",
     "text": [
      "  % Total    % Received % Xferd  Average Speed   Time    Time     Time  Current\n",
      "                                 Dload  Upload   Total   Spent    Left  Speed\n",
      "100 75153  100 75153    0     0   501k      0 --:--:-- --:--:-- --:--:--  535k\n"
     ]
    }
   ],
   "source": [
    "!curl -O https://raw.githubusercontent.com/first20hours/google-10000-english/master/google-10000-english-no-swears.txt"
   ]
  },
  {
   "cell_type": "code",
   "execution_count": 2,
   "metadata": {
    "id": "Tma38kmYF2S_"
   },
   "outputs": [],
   "source": [
    "with open('enable1.txt') as f:\n",
    "  words=set(f.read().splitlines())"
   ]
  },
  {
   "cell_type": "code",
   "execution_count": 3,
   "metadata": {},
   "outputs": [],
   "source": [
    "with open('google-10000-english-no-swears.txt') as f:\n",
    "    top_thousand=set(f.read().splitlines()[:4000])\n",
    "    top_ten_thousand=[x for x in f.read().splitlines() if len(x)>3]"
   ]
  },
  {
   "cell_type": "code",
   "execution_count": 4,
   "metadata": {
    "id": "w_18LSYHLmFO"
   },
   "outputs": [],
   "source": [
    "word_beginings = set()\n",
    "for word in words:\n",
    "  for i in range(len(word)+1):\n",
    "      word_beginings.add(word[:i])\n",
    "\n",
    "top_thousand_beginings = set()\n",
    "for word in top_thousand:\n",
    "  for i in range(len(word)+1):\n",
    "      top_thousand_beginings.add(word[:i])"
   ]
  },
  {
   "cell_type": "code",
   "execution_count": 13,
   "metadata": {
    "colab": {
     "base_uri": "https://localhost:8080/"
    },
    "id": "vDq-rlt9Gzya",
    "outputId": "fa947938-88ce-453a-dc8d-3694132a1b75"
   },
   "outputs": [
    {
     "name": "stdout",
     "output_type": "stream",
     "text": [
      "sandwich\n",
      "('sandwich', 'bacon', 'lettuce', 'pickle', 'turkey', 'mayonnaise', 'tomato')\n",
      "timesindiana\n",
      "timesindiana\n",
      "indiaaccount\n",
      "indiaaccount\n",
      "indiaaccount\n"
     ]
    },
    {
     "ename": "KeyboardInterrupt",
     "evalue": "",
     "output_type": "error",
     "traceback": [
      "\u001B[0;31m---------------------------------------------------------------------------\u001B[0m",
      "\u001B[0;31mKeyboardInterrupt\u001B[0m                         Traceback (most recent call last)",
      "Cell \u001B[0;32mIn[13], line 206\u001B[0m\n\u001B[1;32m    189\u001B[0m \u001B[38;5;66;03m# for y in range(8):\u001B[39;00m\n\u001B[1;32m    190\u001B[0m \u001B[38;5;66;03m#     sfs = \"\"\u001B[39;00m\n\u001B[1;32m    191\u001B[0m \u001B[38;5;66;03m#     for x in range(6):\u001B[39;00m\n\u001B[0;32m   (...)\u001B[0m\n\u001B[1;32m    201\u001B[0m \u001B[38;5;66;03m#             sfs += '0'\u001B[39;00m\n\u001B[1;32m    202\u001B[0m \u001B[38;5;66;03m#     print(sfs)\u001B[39;00m\n\u001B[1;32m    205\u001B[0m mem \u001B[38;5;241m=\u001B[39m \u001B[38;5;28mset\u001B[39m()\n\u001B[0;32m--> 206\u001B[0m \u001B[38;5;28;01mfor\u001B[39;00m pos \u001B[38;5;129;01min\u001B[39;00m \u001B[43mdfs\u001B[49m\u001B[43m(\u001B[49m\u001B[43m(\u001B[49m\u001B[43msp\u001B[49m\u001B[43m[\u001B[49m\u001B[38;5;241;43m0\u001B[39;49m\u001B[43m]\u001B[49m\u001B[43m,\u001B[49m\u001B[43m)\u001B[49m\u001B[43m,\u001B[49m\u001B[43m \u001B[49m\u001B[43msp\u001B[49m\u001B[43m[\u001B[49m\u001B[38;5;241;43m1\u001B[39;49m\u001B[43m]\u001B[49m\u001B[43m,\u001B[49m\u001B[43m \u001B[49m\u001B[43mget_not_overlapping\u001B[49m\u001B[43m(\u001B[49m\u001B[43mflood_fill\u001B[49m\u001B[43m(\u001B[49m\u001B[43msp\u001B[49m\u001B[43m[\u001B[49m\u001B[38;5;241;43m1\u001B[39;49m\u001B[43m]\u001B[49m\u001B[43m,\u001B[49m\u001B[43m \u001B[49m\u001B[43mcorner0\u001B[49m\u001B[43m)\u001B[49m\u001B[43m,\u001B[49m\u001B[43m \u001B[49m\u001B[43mfound_words\u001B[49m\u001B[43m)\u001B[49m\u001B[43m)\u001B[49m:\n\u001B[1;32m    207\u001B[0m     \u001B[38;5;28;01mif\u001B[39;00m \u001B[38;5;28msum\u001B[39m([\u001B[38;5;28mlen\u001B[39m(x) \u001B[38;5;28;01mfor\u001B[39;00m x \u001B[38;5;129;01min\u001B[39;00m pos]) \u001B[38;5;241m>\u001B[39m mx:\n\u001B[1;32m    208\u001B[0m         mx \u001B[38;5;241m=\u001B[39m \u001B[38;5;28msum\u001B[39m([\u001B[38;5;28mlen\u001B[39m(x) \u001B[38;5;28;01mfor\u001B[39;00m x \u001B[38;5;129;01min\u001B[39;00m pos])\n",
      "Cell \u001B[0;32mIn[13], line 135\u001B[0m, in \u001B[0;36mdfs\u001B[0;34m(words, already_visited, pos)\u001B[0m\n\u001B[1;32m    133\u001B[0m output \u001B[38;5;241m=\u001B[39m [words]\n\u001B[1;32m    134\u001B[0m \u001B[38;5;28;01mfor\u001B[39;00m word, coords \u001B[38;5;129;01min\u001B[39;00m pos:\n\u001B[0;32m--> 135\u001B[0m     output \u001B[38;5;241m+\u001B[39m\u001B[38;5;241m=\u001B[39m \u001B[43mdfs\u001B[49m\u001B[43m(\u001B[49m\u001B[43mwords\u001B[49m\u001B[43m \u001B[49m\u001B[38;5;241;43m+\u001B[39;49m\u001B[43m \u001B[49m\u001B[43m(\u001B[49m\u001B[43mword\u001B[49m\u001B[43m,\u001B[49m\u001B[43m)\u001B[49m\u001B[43m,\u001B[49m\u001B[43m \u001B[49m\u001B[43malready_visited\u001B[49m\u001B[38;5;241;43m+\u001B[39;49m\u001B[43mcoords\u001B[49m\u001B[43m,\u001B[49m\u001B[43m \u001B[49m\u001B[43mpos\u001B[49m\u001B[43m)\u001B[49m\n\u001B[1;32m    136\u001B[0m mem\u001B[38;5;241m.\u001B[39madd(\u001B[38;5;28mtuple\u001B[39m(\u001B[38;5;28msorted\u001B[39m(words)))\n\u001B[1;32m    137\u001B[0m \u001B[38;5;28;01mreturn\u001B[39;00m output\n",
      "Cell \u001B[0;32mIn[13], line 135\u001B[0m, in \u001B[0;36mdfs\u001B[0;34m(words, already_visited, pos)\u001B[0m\n\u001B[1;32m    133\u001B[0m output \u001B[38;5;241m=\u001B[39m [words]\n\u001B[1;32m    134\u001B[0m \u001B[38;5;28;01mfor\u001B[39;00m word, coords \u001B[38;5;129;01min\u001B[39;00m pos:\n\u001B[0;32m--> 135\u001B[0m     output \u001B[38;5;241m+\u001B[39m\u001B[38;5;241m=\u001B[39m \u001B[43mdfs\u001B[49m\u001B[43m(\u001B[49m\u001B[43mwords\u001B[49m\u001B[43m \u001B[49m\u001B[38;5;241;43m+\u001B[39;49m\u001B[43m \u001B[49m\u001B[43m(\u001B[49m\u001B[43mword\u001B[49m\u001B[43m,\u001B[49m\u001B[43m)\u001B[49m\u001B[43m,\u001B[49m\u001B[43m \u001B[49m\u001B[43malready_visited\u001B[49m\u001B[38;5;241;43m+\u001B[39;49m\u001B[43mcoords\u001B[49m\u001B[43m,\u001B[49m\u001B[43m \u001B[49m\u001B[43mpos\u001B[49m\u001B[43m)\u001B[49m\n\u001B[1;32m    136\u001B[0m mem\u001B[38;5;241m.\u001B[39madd(\u001B[38;5;28mtuple\u001B[39m(\u001B[38;5;28msorted\u001B[39m(words)))\n\u001B[1;32m    137\u001B[0m \u001B[38;5;28;01mreturn\u001B[39;00m output\n",
      "Cell \u001B[0;32mIn[13], line 135\u001B[0m, in \u001B[0;36mdfs\u001B[0;34m(words, already_visited, pos)\u001B[0m\n\u001B[1;32m    133\u001B[0m output \u001B[38;5;241m=\u001B[39m [words]\n\u001B[1;32m    134\u001B[0m \u001B[38;5;28;01mfor\u001B[39;00m word, coords \u001B[38;5;129;01min\u001B[39;00m pos:\n\u001B[0;32m--> 135\u001B[0m     output \u001B[38;5;241m+\u001B[39m\u001B[38;5;241m=\u001B[39m \u001B[43mdfs\u001B[49m\u001B[43m(\u001B[49m\u001B[43mwords\u001B[49m\u001B[43m \u001B[49m\u001B[38;5;241;43m+\u001B[39;49m\u001B[43m \u001B[49m\u001B[43m(\u001B[49m\u001B[43mword\u001B[49m\u001B[43m,\u001B[49m\u001B[43m)\u001B[49m\u001B[43m,\u001B[49m\u001B[43m \u001B[49m\u001B[43malready_visited\u001B[49m\u001B[38;5;241;43m+\u001B[39;49m\u001B[43mcoords\u001B[49m\u001B[43m,\u001B[49m\u001B[43m \u001B[49m\u001B[43mpos\u001B[49m\u001B[43m)\u001B[49m\n\u001B[1;32m    136\u001B[0m mem\u001B[38;5;241m.\u001B[39madd(\u001B[38;5;28mtuple\u001B[39m(\u001B[38;5;28msorted\u001B[39m(words)))\n\u001B[1;32m    137\u001B[0m \u001B[38;5;28;01mreturn\u001B[39;00m output\n",
      "Cell \u001B[0;32mIn[13], line 132\u001B[0m, in \u001B[0;36mdfs\u001B[0;34m(words, already_visited, pos)\u001B[0m\n\u001B[1;32m    130\u001B[0m \u001B[38;5;28;01mif\u001B[39;00m \u001B[38;5;28mtuple\u001B[39m(\u001B[38;5;28msorted\u001B[39m(words)) \u001B[38;5;129;01min\u001B[39;00m mem:\n\u001B[1;32m    131\u001B[0m     \u001B[38;5;28;01mreturn\u001B[39;00m []\n\u001B[0;32m--> 132\u001B[0m pos \u001B[38;5;241m=\u001B[39m \u001B[43mget_not_overlapping\u001B[49m\u001B[43m(\u001B[49m\u001B[43malready_visited\u001B[49m\u001B[43m,\u001B[49m\u001B[43m \u001B[49m\u001B[43mpos\u001B[49m\u001B[43m)\u001B[49m\n\u001B[1;32m    133\u001B[0m output \u001B[38;5;241m=\u001B[39m [words]\n\u001B[1;32m    134\u001B[0m \u001B[38;5;28;01mfor\u001B[39;00m word, coords \u001B[38;5;129;01min\u001B[39;00m pos:\n",
      "Cell \u001B[0;32mIn[13], line 95\u001B[0m, in \u001B[0;36mget_not_overlapping\u001B[0;34m(already_visted, pos)\u001B[0m\n\u001B[1;32m     93\u001B[0m out \u001B[38;5;241m=\u001B[39m []\n\u001B[1;32m     94\u001B[0m \u001B[38;5;28;01mfor\u001B[39;00m word \u001B[38;5;129;01min\u001B[39;00m pos:\n\u001B[0;32m---> 95\u001B[0m     \u001B[38;5;28;01mif\u001B[39;00m \u001B[38;5;28mlen\u001B[39m(\u001B[38;5;28;43mset\u001B[39;49m\u001B[43m(\u001B[49m\u001B[43malready_visted\u001B[49m\u001B[38;5;241;43m+\u001B[39;49m\u001B[43mword\u001B[49m\u001B[43m[\u001B[49m\u001B[38;5;241;43m1\u001B[39;49m\u001B[43m]\u001B[49m\u001B[43m)\u001B[49m) \u001B[38;5;241m==\u001B[39m \u001B[38;5;28mlen\u001B[39m(already_visted)\u001B[38;5;241m+\u001B[39m\u001B[38;5;28mlen\u001B[39m(word[\u001B[38;5;241m1\u001B[39m]):\n\u001B[1;32m     96\u001B[0m         out\u001B[38;5;241m.\u001B[39mappend(word)\n\u001B[1;32m     97\u001B[0m \u001B[38;5;28;01mreturn\u001B[39;00m out\n",
      "\u001B[0;31mKeyboardInterrupt\u001B[0m: "
     ]
    }
   ],
   "source": [
    "def in_bounds(coord):\n",
    "  x,y = coord\n",
    "  return 0 <= x < 6 and 0 <= y < 8\n",
    "\n",
    "def get_neighbors(coord):\n",
    "  x,y = coord\n",
    "  return [out for out in [(x,y+1),(x,y-1),(x-1,y),(x-1,y+1),(x-1,y-1),(x+1,y),(x+1,y+1),(x+1,y-1)] if in_bounds(out)]\n",
    "\n",
    "def get_adjacent(coord):\n",
    "  x,y = coord\n",
    "  return [out for out in [(x,y+1),(x,y-1),(x-1,y),(x+1,y)] if in_bounds(out)]\n",
    "\n",
    "def get_diagonal(coord):\n",
    "  x,y = coord\n",
    "  return [out for out in [(x-1,y+1),(x-1,y-1),(x+1,y+1),(x+1,y-1)] if in_bounds(out)]\n",
    "\n",
    "def allowed_spangram_part(letters):\n",
    "    if letters in word_beginings:\n",
    "        return True\n",
    "    for i in range(len(letters)):\n",
    "        if letters[:i] in top_thousand and letters[i:] in top_thousand_beginings:\n",
    "            return True\n",
    "    return False\n",
    "\n",
    "def allowed_spangram(letters):\n",
    "    if letters in words:\n",
    "        return True\n",
    "    for i in range(len(letters)):\n",
    "        if letters[:i] in top_thousand and letters[i:] in top_thousand:\n",
    "            return True\n",
    "    return False\n",
    "\n",
    "def get_poss_words(coords, letters):\n",
    "  if letters not in word_beginings:\n",
    "    return []\n",
    "  running = []\n",
    "  if len(letters) >= 4 and letters in words:\n",
    "    running.append((letters, coords))\n",
    "\n",
    "  poss = [x for x in get_neighbors(coords[-1]) if x not in coords]\n",
    "  out = []\n",
    "  for c in poss:\n",
    "    out += get_poss_words(coords+[c], letters+board[c[1]][c[0]])\n",
    "  return running+out\n",
    "\n",
    "def get_poss_words_edge(coords, letters, edges):\n",
    "  if not allowed_spangram_part(letters):\n",
    "    return []\n",
    "  running = []\n",
    "  if len(letters) >= 4 and allowed_spangram(letters) and coords[-1] in edges:\n",
    "    running.append((letters, coords))\n",
    "  poss = [x for x in get_neighbors(coords[-1]) if x not in coords]\n",
    "  out = []\n",
    "  for c in poss:\n",
    "    out += get_poss_words_edge(coords+[c], letters+board[c[1]][c[0]], edges)\n",
    "  return running+out\n",
    "\n",
    "edge0 = [(0,y) for y in range(8)]\n",
    "edge1 = [(5,y) for y in range(8)]\n",
    "edge2 = [(x,0) for x in range(6)]\n",
    "edge3 = [(x,7) for x in range(6)]\n",
    "\n",
    "spangrams = []\n",
    "\n",
    "for start in edge0:\n",
    "  spangrams += get_poss_words_edge([start], board[start[1]][start[0]], edge1)\n",
    "for start in edge1:\n",
    "  spangrams += get_poss_words_edge([start], board[start[1]][start[0]], edge0)\n",
    "for start in edge2:\n",
    "  spangrams += get_poss_words_edge([start], board[start[1]][start[0]], edge3)\n",
    "for start in edge3:\n",
    "  spangrams += get_poss_words_edge([start], board[start[1]][start[0]], edge2)\n",
    "\n",
    "found_words = []\n",
    "\n",
    "for x in range(6):\n",
    "  for y in range(8):\n",
    "    found_words += get_poss_words([(x,y)], board[y][x])\n",
    "\n",
    "found_words_old = found_words\n",
    "found_words = []\n",
    "fws = set()\n",
    "for word in found_words_old:\n",
    "    if word[0] not in fws:\n",
    "        fws.add(word[0])\n",
    "        found_words.append(word)\n",
    "\n",
    "def get_not_overlapping(already_visted, pos):\n",
    "    out = []\n",
    "    for word in pos:\n",
    "        if len(set(already_visted+word[1])) == len(already_visted)+len(word[1]):\n",
    "            out.append(word)\n",
    "    return out\n",
    "\n",
    "def diagonal_line_crossed(boundry, prev, pos):\n",
    "    t1 = (pos[0], prev[1])\n",
    "    t2 = (prev[0], pos[1])\n",
    "    for i in range(len(boundry)-1):\n",
    "        if boundry[i] == t1 and boundry[i+1] == t2:\n",
    "            return True\n",
    "        if boundry[i] == t2 and boundry[i+1] == t1:\n",
    "            return True\n",
    "    return False\n",
    "    \n",
    "def flood_fill(boundry, start):\n",
    "  out = [start]\n",
    "  to_check = [start]\n",
    "  while to_check:\n",
    "    top = to_check[-1]\n",
    "    to_check.pop(-1)\n",
    "    for n in get_adjacent(top):\n",
    "      if n in out or n in boundry:\n",
    "        continue\n",
    "      to_check.append(n)\n",
    "      out.append(n)\n",
    "    for n in get_diagonal(top):\n",
    "      if n in out or n in boundry or diagonal_line_crossed(boundry, top, n):\n",
    "        continue\n",
    "      to_check.append(n)\n",
    "      out.append(n)\n",
    "  return out\n",
    "\n",
    "mem = set()\n",
    "    \n",
    "def dfs(words, already_visited, pos):\n",
    "  if tuple(sorted(words)) in mem:\n",
    "      return []\n",
    "  pos = get_not_overlapping(already_visited, pos)\n",
    "  output = [words]\n",
    "  for word, coords in pos:\n",
    "      output += dfs(words + (word,), already_visited+coords, pos)\n",
    "  mem.add(tuple(sorted(words)))\n",
    "  return output\n",
    "\n",
    "def tidy(x):\n",
    "    t = [tuple(sorted(a[1:])) for a in x]\n",
    "    t = list(set(t))\n",
    "    t.sort(key = lambda p: sum([top_ten_thousand.index(k) if k in top_ten_thousand else 20000 for k in p]))\n",
    "    return t\n",
    "\n",
    "def num_to_edge(i):\n",
    "    i = i % 24\n",
    "    if i<5:\n",
    "        return (i,0)\n",
    "    elif i<12:\n",
    "        return (5,i-5)\n",
    "    elif i<17:\n",
    "        return (17-i,7)\n",
    "    else:\n",
    "        return (0,24-i)\n",
    "\n",
    "spangrams.sort(reverse=True, key=lambda x: (len(x[0]) + (4 if x[0] in words else 0)))\n",
    "\n",
    "spangrams = [x for x in spangrams if len(set(list(x[1])+edge0+edge1+edge2+edge3)) + 4 >= len(x[1])+2*(6+8)-4]\n",
    "\n",
    "for sp in spangrams[:20]:\n",
    "    mx = 0 \n",
    "    outp = []\n",
    "    print(sp[0])\n",
    "\n",
    "    pc0 = 0\n",
    "    pc1 = 12\n",
    "\n",
    "    while num_to_edge(pc0) in sp[1]:\n",
    "        pc0 += 1\n",
    "\n",
    "    while pc1<13+24:\n",
    "        pc1 += 1\n",
    "        if num_to_edge(pc1) in sp[1]:\n",
    "            continue\n",
    "        if len(set(flood_fill(sp[1], num_to_edge(pc0)) + flood_fill(sp[1], num_to_edge(pc1)) + sp[1])) < 48:\n",
    "            continue\n",
    "        break\n",
    "        \n",
    "    if pc1 == 13+24:\n",
    "        continue\n",
    "                \n",
    "    if len(flood_fill(sp[1], num_to_edge(pc0))) <= len(flood_fill(sp[1], num_to_edge(pc1))):\n",
    "        corner0 = num_to_edge(pc0)\n",
    "        corner1 = num_to_edge(pc1)\n",
    "    else:\n",
    "        corner0 = num_to_edge(pc1)\n",
    "        corner1 = num_to_edge(pc0)\n",
    "    \n",
    "    mem = set()\n",
    "    for pos in dfs((sp[0],), sp[1], get_not_overlapping(flood_fill(sp[1], corner0), found_words)):\n",
    "        if sum([len(x) for x in pos]) > mx:\n",
    "            mx = sum([len(x) for x in pos])\n",
    "            outp = [pos]\n",
    "        if sum([len(x) for x in pos]) == mx:\n",
    "            outp.append(pos)\n",
    "    \n",
    "    mem = set()\n",
    "    if mx-len(sp[1]) == len(flood_fill(sp[1], corner1)):\n",
    "        mx2 = 0 \n",
    "        outp2 = []\n",
    "        for pos in dfs((sp[0],), sp[1], get_not_overlapping(flood_fill(sp[1], corner1), found_words)):\n",
    "            if sum([len(x) for x in pos]) > mx2:\n",
    "                mx2= sum([len(x) for x in pos])\n",
    "                outp2 = [pos]\n",
    "            if sum([len(x) for x in pos]) == mx2:\n",
    "                outp2.append(pos)\n",
    "        if mx+mx2-len(sp[1]) == 48:\n",
    "            print((sp[0],) + tidy(outp)[0] + tidy(outp2)[0])"
   ]
  }
 ],
 "metadata": {
  "colab": {
   "provenance": []
  },
  "kernelspec": {
   "display_name": "Python 3 (ipykernel)",
   "language": "python",
   "name": "python3"
  },
  "language_info": {
   "codemirror_mode": {
    "name": "ipython",
    "version": 3
   },
   "file_extension": ".py",
   "mimetype": "text/x-python",
   "name": "python",
   "nbconvert_exporter": "python",
   "pygments_lexer": "ipython3",
   "version": "3.9.19"
  }
 },
 "nbformat": 4,
 "nbformat_minor": 4
}
